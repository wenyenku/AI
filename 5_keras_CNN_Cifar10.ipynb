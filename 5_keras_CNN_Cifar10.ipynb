{
  "nbformat": 4,
  "nbformat_minor": 0,
  "metadata": {
    "colab": {
      "name": "5.keras_CNN_Cifar10.ipynb",
      "provenance": []
    },
    "kernelspec": {
      "name": "python3",
      "display_name": "Python 3"
    },
    "language_info": {
      "name": "python"
    },
    "accelerator": "GPU"
  },
  "cells": [
    {
      "cell_type": "markdown",
      "metadata": {
        "id": "view-in-github"
      },
      "source": [
        "<a href=\"https://colab.research.google.com/github/shhuangmust/AI/blob/110-2/5.keras_CNN_Cifar10.ipynb\" target=\"_parent\"><img src=\"https://colab.research.google.com/assets/colab-badge.svg\" alt=\"Open In Colab\"/></a>"
      ]
    },
    {
      "cell_type": "code",
      "source": [
        "from tensorflow import keras\n",
        "from keras.models import Sequential\n",
        "from keras.layers import Dense, Conv2D, MaxPooling2D, Flatten\n",
        "model=Sequential()\n",
        "model.add(Conv2D(filters=64, kernel_size=(5, 5), input_shape=(32, 32, 3), activation='relu'))\n",
        "model.add(Conv2D(filters=64, kernel_size=(5, 5), activation='relu'))\n",
        "model.add(MaxPooling2D(pool_size=2))\n",
        "model.add(Conv2D(filters=128, kernel_size=(5, 5), activation='relu'))\n",
        "model.add(Conv2D(filters=128, kernel_size=(5, 5), activation='relu'))\n",
        "model.add(MaxPooling2D(pool_size=2))\n",
        "model.add(Flatten())\n",
        "model.add(Dense(10, activation='softmax'))\n",
        "model.summary()\n",
        "model.compile(optimizer='rmsprop', loss='categorical_crossentropy', metrics=['accuracy'])"
      ],
      "metadata": {
        "colab": {
          "base_uri": "https://localhost:8080/"
        },
        "id": "LQ_HZ-tK8L-C",
        "outputId": "2e5d2424-a7ba-4264-cca1-987b8cbc29d1"
      },
      "execution_count": 1,
      "outputs": [
        {
          "output_type": "stream",
          "name": "stdout",
          "text": [
            "Model: \"sequential\"\n",
            "_________________________________________________________________\n",
            " Layer (type)                Output Shape              Param #   \n",
            "=================================================================\n",
            " conv2d (Conv2D)             (None, 28, 28, 64)        4864      \n",
            "                                                                 \n",
            " conv2d_1 (Conv2D)           (None, 24, 24, 64)        102464    \n",
            "                                                                 \n",
            " max_pooling2d (MaxPooling2D  (None, 12, 12, 64)       0         \n",
            " )                                                               \n",
            "                                                                 \n",
            " conv2d_2 (Conv2D)           (None, 8, 8, 128)         204928    \n",
            "                                                                 \n",
            " conv2d_3 (Conv2D)           (None, 4, 4, 128)         409728    \n",
            "                                                                 \n",
            " max_pooling2d_1 (MaxPooling  (None, 2, 2, 128)        0         \n",
            " 2D)                                                             \n",
            "                                                                 \n",
            " flatten (Flatten)           (None, 512)               0         \n",
            "                                                                 \n",
            " dense (Dense)               (None, 10)                5130      \n",
            "                                                                 \n",
            "=================================================================\n",
            "Total params: 727,114\n",
            "Trainable params: 727,114\n",
            "Non-trainable params: 0\n",
            "_________________________________________________________________\n"
          ]
        }
      ]
    },
    {
      "cell_type": "code",
      "source": [
        "cifar10=keras.datasets.cifar10\n",
        "(train_data, train_label), (test_data, test_label) = cifar10.load_data()\n",
        "train_label_original=train_label\n",
        "train_label = keras.utils.to_categorical(train_label)\n",
        "test_label = keras.utils.to_categorical(test_label)"
      ],
      "metadata": {
        "id": "4eM5EOSr4DLB",
        "colab": {
          "base_uri": "https://localhost:8080/"
        },
        "outputId": "b266534f-5746-43fb-9b59-22ec62b08869"
      },
      "execution_count": 2,
      "outputs": [
        {
          "output_type": "stream",
          "name": "stdout",
          "text": [
            "Downloading data from https://www.cs.toronto.edu/~kriz/cifar-10-python.tar.gz\n",
            "170500096/170498071 [==============================] - 2s 0us/step\n",
            "170508288/170498071 [==============================] - 2s 0us/step\n"
          ]
        }
      ]
    },
    {
      "cell_type": "code",
      "source": [
        "import matplotlib.pyplot as plt\n",
        "category=['airplane','automobile','bird','cat','deer','dog','frog','horse','ship','truck']\n",
        "plt.imshow(train_data[0])\n",
        "plt.title(category[int(train_label_original[0])])\n",
        "plt.show()\n",
        "print(train_label_original[0])"
      ],
      "metadata": {
        "colab": {
          "base_uri": "https://localhost:8080/",
          "height": 298
        },
        "id": "4j8cPTbDahQr",
        "outputId": "5656d660-f4cf-4e4e-ceb4-0ba5e0f3a20d"
      },
      "execution_count": 3,
      "outputs": [
        {
          "output_type": "display_data",
          "data": {
            "text/plain": [
              "<Figure size 432x288 with 1 Axes>"
            ],
            "image/png": "[encoded data removed]"
          },
          "metadata": {
            "needs_background": "light"
          }
        },
        {
          "output_type": "stream",
          "name": "stdout",
          "text": [
            "[6]\n"
          ]
        }
      ]
    },
    {
      "cell_type": "code",
      "source": [
        "train_history=model.fit(train_data,train_label,epochs=30,batch_size=512)\n"
      ],
      "metadata": {
        "id": "UFCQb8bgy3nU",
        "colab": {
          "base_uri": "https://localhost:8080/"
        },
        "outputId": "d28e0b63-ba2b-413c-8d33-877eebc58f0b"
      },
      "execution_count": 4,
      "outputs": [
        {
          "output_type": "stream",
          "name": "stdout",
          "text": [
            "Epoch 1/30\n",
            "98/98 [==============================] - 17s 51ms/step - loss: 14.2509 - accuracy: 0.1826\n",
            "Epoch 2/30\n",
            "98/98 [==============================] - 4s 44ms/step - loss: 2.2441 - accuracy: 0.2223\n",
            "Epoch 3/30\n",
            "98/98 [==============================] - 4s 44ms/step - loss: 2.1032 - accuracy: 0.3115\n",
            "Epoch 4/30\n",
            "98/98 [==============================] - 4s 44ms/step - loss: 1.7884 - accuracy: 0.3811\n",
            "Epoch 5/30\n",
            "98/98 [==============================] - 4s 45ms/step - loss: 1.6709 - accuracy: 0.4317\n",
            "Epoch 6/30\n",
            "98/98 [==============================] - 4s 45ms/step - loss: 1.5985 - accuracy: 0.4633\n",
            "Epoch 7/30\n",
            "98/98 [==============================] - 4s 45ms/step - loss: 1.3707 - accuracy: 0.5335\n",
            "Epoch 8/30\n",
            "98/98 [==============================] - 4s 45ms/step - loss: 1.2244 - accuracy: 0.5832\n",
            "Epoch 9/30\n",
            "98/98 [==============================] - 4s 45ms/step - loss: 1.0985 - accuracy: 0.6242\n",
            "Epoch 10/30\n",
            "98/98 [==============================] - 4s 45ms/step - loss: 0.9733 - accuracy: 0.6675\n",
            "Epoch 11/30\n",
            "98/98 [==============================] - 4s 45ms/step - loss: 0.8660 - accuracy: 0.7075\n",
            "Epoch 12/30\n",
            "98/98 [==============================] - 5s 47ms/step - loss: 0.7386 - accuracy: 0.7489\n",
            "Epoch 13/30\n",
            "98/98 [==============================] - 5s 46ms/step - loss: 0.6503 - accuracy: 0.7800\n",
            "Epoch 14/30\n",
            "98/98 [==============================] - 4s 45ms/step - loss: 0.5619 - accuracy: 0.8094\n",
            "Epoch 15/30\n",
            "98/98 [==============================] - 4s 45ms/step - loss: 0.4765 - accuracy: 0.8398\n",
            "Epoch 16/30\n",
            "98/98 [==============================] - 4s 46ms/step - loss: 0.4222 - accuracy: 0.8580\n",
            "Epoch 17/30\n",
            "98/98 [==============================] - 4s 46ms/step - loss: 0.3699 - accuracy: 0.8784\n",
            "Epoch 18/30\n",
            "98/98 [==============================] - 4s 46ms/step - loss: 0.3331 - accuracy: 0.8937\n",
            "Epoch 19/30\n",
            "98/98 [==============================] - 5s 46ms/step - loss: 0.3149 - accuracy: 0.9011\n",
            "Epoch 20/30\n",
            "98/98 [==============================] - 4s 46ms/step - loss: 0.2821 - accuracy: 0.9118\n",
            "Epoch 21/30\n",
            "98/98 [==============================] - 5s 46ms/step - loss: 0.2936 - accuracy: 0.9114\n",
            "Epoch 22/30\n",
            "98/98 [==============================] - 5s 46ms/step - loss: 0.2289 - accuracy: 0.9290\n",
            "Epoch 23/30\n",
            "98/98 [==============================] - 5s 46ms/step - loss: 0.2336 - accuracy: 0.9279\n",
            "Epoch 24/30\n",
            "98/98 [==============================] - 5s 46ms/step - loss: 0.2284 - accuracy: 0.9302\n",
            "Epoch 25/30\n",
            "98/98 [==============================] - 5s 46ms/step - loss: 0.2241 - accuracy: 0.9356\n",
            "Epoch 26/30\n",
            "98/98 [==============================] - 5s 46ms/step - loss: 0.2090 - accuracy: 0.9375\n",
            "Epoch 27/30\n",
            "98/98 [==============================] - 5s 46ms/step - loss: 0.2038 - accuracy: 0.9413\n",
            "Epoch 28/30\n",
            "98/98 [==============================] - 5s 46ms/step - loss: 0.2221 - accuracy: 0.9380\n",
            "Epoch 29/30\n",
            "98/98 [==============================] - 5s 47ms/step - loss: 0.2087 - accuracy: 0.9455\n",
            "Epoch 30/30\n",
            "98/98 [==============================] - 5s 46ms/step - loss: 0.2175 - accuracy: 0.9419\n"
          ]
        }
      ]
    },
    {
      "cell_type": "code",
      "source": [
        "score=model.evaluate(test_data, test_label)\n",
        "print(score[1])"
      ],
      "metadata": {
        "id": "SC2VW7yl87F-",
        "colab": {
          "base_uri": "https://localhost:8080/"
        },
        "outputId": "bdc64597-222c-4e99-e1b9-fb92dd8d8cec"
      },
      "execution_count": 5,
      "outputs": [
        {
          "output_type": "stream",
          "name": "stdout",
          "text": [
            "313/313 [==============================] - 2s 4ms/step - loss: 3.2724 - accuracy: 0.6105\n",
            "0.6104999780654907\n"
          ]
        }
      ]
    },
    {
      "cell_type": "code",
      "source": [
        "#繪製正確性與損失歷史圖\n",
        "import matplotlib.pyplot as plt\n",
        "import numpy as np\n",
        "\n",
        "def show_train_history(train_history, train):\n",
        "    plt.plot(train_history.history[train])\n",
        "    plt.title('Train History')\n",
        "    plt.ylabel(train)\n",
        "    plt.xlabel('Epoch')\n",
        "    plt.legend(['train'], loc='center right')\n",
        "    plt.show()\n",
        "\n",
        "show_train_history(train_history, 'accuracy')\n",
        "show_train_history(train_history, 'loss')"
      ],
      "metadata": {
        "colab": {
          "base_uri": "https://localhost:8080/",
          "height": 573
        },
        "id": "YycOQ_auS_1s",
        "outputId": "0f7dddf8-b72c-45fc-954e-00cd45b99bb1"
      },
      "execution_count": 6,
      "outputs": [
        {
          "output_type": "display_data",
          "data": {
            "text/plain": [
              "<Figure size 432x288 with 1 Axes>"
            ],
            "image/png": "[encoded data removed]"
          },
          "metadata": {
            "needs_background": "light"
          }
        },
        {
          "output_type": "display_data",
          "data": {
            "text/plain": [
              "<Figure size 432x288 with 1 Axes>"
            ],
            "image/png": "[encoded data removed]"
          },
          "metadata": {
            "needs_background": "light"
          }
        }
      ]
    }
  ]
}